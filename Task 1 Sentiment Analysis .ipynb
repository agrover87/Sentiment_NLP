{
 "cells": [
  {
   "cell_type": "code",
   "execution_count": null,
   "metadata": {},
   "outputs": [],
   "source": [
    "import pandas as pd\n",
    "import numpy as np\n",
    "\n",
    "import re\n",
    "import nltk\n",
    "import requests\n",
    "\n",
    "import matplotlib.pyplot as plt\n",
    "import seaborn as sns\n",
    "\n",
    "%matplotlib inline\n",
    "\n",
    "from nltk import PorterStemmer, WordNetLemmatizer, pos_tag, word_tokenize, sent_tokenize\n",
    "from sklearn.feature_extraction import text\n",
    "from sklearn.feature_extraction.text import TfidfVectorizer, CountVectorizer\n",
    "from nltk.corpus import wordnet\n",
    "from sklearn.decomposition import PCA, TruncatedSVD\n",
    "from sklearn.model_selection import train_test_split  \n",
    "from sklearn.ensemble import RandomForestClassifier, GradientBoostingClassifier\n",
    "from sklearn.metrics import classification_report, confusion_matrix, accuracy_score\n",
    "from sklearn.decomposition import NMF, LatentDirichletAllocation"
   ]
  },
  {
   "cell_type": "code",
   "execution_count": 152,
   "metadata": {},
   "outputs": [],
   "source": [
    "raw_df = pd.read_excel('Hack_Review_oos.xlsx')"
   ]
  },
  {
   "cell_type": "markdown",
   "metadata": {},
   "source": [
    "##### Combining review summary and review  text"
   ]
  },
  {
   "cell_type": "code",
   "execution_count": 140,
   "metadata": {},
   "outputs": [
    {
     "data": {
      "text/html": [
       "<div>\n",
       "<style scoped>\n",
       "    .dataframe tbody tr th:only-of-type {\n",
       "        vertical-align: middle;\n",
       "    }\n",
       "\n",
       "    .dataframe tbody tr th {\n",
       "        vertical-align: top;\n",
       "    }\n",
       "\n",
       "    .dataframe thead th {\n",
       "        text-align: right;\n",
       "    }\n",
       "</style>\n",
       "<table border=\"1\" class=\"dataframe\">\n",
       "  <thead>\n",
       "    <tr style=\"text-align: right;\">\n",
       "      <th></th>\n",
       "      <th>Unnamed: 0</th>\n",
       "      <th>Reviewer_ID</th>\n",
       "      <th>Asin</th>\n",
       "      <th>Reviewer_Name</th>\n",
       "      <th>helpful_UpVote</th>\n",
       "      <th>Total_Votes</th>\n",
       "      <th>Review_Text</th>\n",
       "      <th>Rating</th>\n",
       "      <th>Summary</th>\n",
       "      <th>Unix_Review_Time</th>\n",
       "      <th>Review_Time</th>\n",
       "      <th>conc_review</th>\n",
       "      <th>sentiment</th>\n",
       "    </tr>\n",
       "  </thead>\n",
       "  <tbody>\n",
       "    <tr>\n",
       "      <th>0</th>\n",
       "      <td>0</td>\n",
       "      <td>A2CX7LUOHB2NDG</td>\n",
       "      <td>321732944</td>\n",
       "      <td>Bernie</td>\n",
       "      <td>0</td>\n",
       "      <td>0</td>\n",
       "      <td>While many beginner DVDs try to teach you ever...</td>\n",
       "      <td>5</td>\n",
       "      <td>Adobe Photoshop CS5 Crash Course with master P...</td>\n",
       "      <td>1341100800</td>\n",
       "      <td>07 1, 2012</td>\n",
       "      <td>Adobe Photoshop CS5 Crash Course with master P...</td>\n",
       "      <td>positive</td>\n",
       "    </tr>\n",
       "    <tr>\n",
       "      <th>1</th>\n",
       "      <td>1</td>\n",
       "      <td>A1GI0U4ZRJA8WN</td>\n",
       "      <td>439886341</td>\n",
       "      <td>Truthfull</td>\n",
       "      <td>4</td>\n",
       "      <td>4</td>\n",
       "      <td>Do not waste your money on this thing it is te...</td>\n",
       "      <td>1</td>\n",
       "      <td>TERRIBLE DONT WASTE YOUR MONEY</td>\n",
       "      <td>1334707200</td>\n",
       "      <td>04 18, 2012</td>\n",
       "      <td>TERRIBLE DONT WASTE YOUR MONEY Do not waste yo...</td>\n",
       "      <td>negative</td>\n",
       "    </tr>\n",
       "    <tr>\n",
       "      <th>2</th>\n",
       "      <td>2</td>\n",
       "      <td>A29LPQQDG7LD5J</td>\n",
       "      <td>528881469</td>\n",
       "      <td>Alfred Delgado</td>\n",
       "      <td>0</td>\n",
       "      <td>0</td>\n",
       "      <td>I have owned two Rand McNally GPS devices over...</td>\n",
       "      <td>1</td>\n",
       "      <td>Piece of Junk</td>\n",
       "      <td>1352073600</td>\n",
       "      <td>11 5, 2012</td>\n",
       "      <td>Piece of Junk I have owned two Rand McNally GP...</td>\n",
       "      <td>negative</td>\n",
       "    </tr>\n",
       "    <tr>\n",
       "      <th>3</th>\n",
       "      <td>3</td>\n",
       "      <td>AMO214LNFCEI4</td>\n",
       "      <td>528881469</td>\n",
       "      <td>Amazon Customer</td>\n",
       "      <td>12</td>\n",
       "      <td>15</td>\n",
       "      <td>I'm a professional OTR truck driver, and I bou...</td>\n",
       "      <td>1</td>\n",
       "      <td>Very Disappointed</td>\n",
       "      <td>1290643200</td>\n",
       "      <td>11 25, 2010</td>\n",
       "      <td>Very Disappointed I'm a professional OTR truck...</td>\n",
       "      <td>negative</td>\n",
       "    </tr>\n",
       "    <tr>\n",
       "      <th>4</th>\n",
       "      <td>4</td>\n",
       "      <td>A28B1G1MSJ6OO1</td>\n",
       "      <td>528881469</td>\n",
       "      <td>A. O Sandness</td>\n",
       "      <td>21</td>\n",
       "      <td>22</td>\n",
       "      <td>This is a great truck GPS. I've tried others a...</td>\n",
       "      <td>4</td>\n",
       "      <td>Great Unit!</td>\n",
       "      <td>1280016000</td>\n",
       "      <td>07 25, 2010</td>\n",
       "      <td>Great Unit! This is a great truck GPS. I've tr...</td>\n",
       "      <td>positive</td>\n",
       "    </tr>\n",
       "  </tbody>\n",
       "</table>\n",
       "</div>"
      ],
      "text/plain": [
       "   Unnamed: 0     Reviewer_ID       Asin    Reviewer_Name  helpful_UpVote  \\\n",
       "0           0  A2CX7LUOHB2NDG  321732944           Bernie               0   \n",
       "1           1  A1GI0U4ZRJA8WN  439886341        Truthfull               4   \n",
       "2           2  A29LPQQDG7LD5J  528881469   Alfred Delgado               0   \n",
       "3           3   AMO214LNFCEI4  528881469  Amazon Customer              12   \n",
       "4           4  A28B1G1MSJ6OO1  528881469    A. O Sandness              21   \n",
       "\n",
       "   Total_Votes                                        Review_Text  Rating  \\\n",
       "0            0  While many beginner DVDs try to teach you ever...       5   \n",
       "1            4  Do not waste your money on this thing it is te...       1   \n",
       "2            0  I have owned two Rand McNally GPS devices over...       1   \n",
       "3           15  I'm a professional OTR truck driver, and I bou...       1   \n",
       "4           22  This is a great truck GPS. I've tried others a...       4   \n",
       "\n",
       "                                             Summary  Unix_Review_Time  \\\n",
       "0  Adobe Photoshop CS5 Crash Course with master P...        1341100800   \n",
       "1                     TERRIBLE DONT WASTE YOUR MONEY        1334707200   \n",
       "2                                      Piece of Junk        1352073600   \n",
       "3                                  Very Disappointed        1290643200   \n",
       "4                                        Great Unit!        1280016000   \n",
       "\n",
       "   Review_Time                                        conc_review sentiment  \n",
       "0   07 1, 2012  Adobe Photoshop CS5 Crash Course with master P...  positive  \n",
       "1  04 18, 2012  TERRIBLE DONT WASTE YOUR MONEY Do not waste yo...  negative  \n",
       "2   11 5, 2012  Piece of Junk I have owned two Rand McNally GP...  negative  \n",
       "3  11 25, 2010  Very Disappointed I'm a professional OTR truck...  negative  \n",
       "4  07 25, 2010  Great Unit! This is a great truck GPS. I've tr...  positive  "
      ]
     },
     "execution_count": 140,
     "metadata": {},
     "output_type": "execute_result"
    }
   ],
   "source": [
    "raw_df['conc_review'] = raw_df[\"Summary\"]+\" \"+raw_df['Review_Text']\n",
    "raw_df.head()"
   ]
  },
  {
   "cell_type": "markdown",
   "metadata": {},
   "source": [
    "Creating sentiment based on rating"
   ]
  },
  {
   "cell_type": "code",
   "execution_count": 67,
   "metadata": {},
   "outputs": [],
   "source": [
    "raw_df['sentiment'] = pd.cut(raw_df['Rating'],bins = [0,2,3,5], labels =['negative','neutral','positive'])"
   ]
  },
  {
   "cell_type": "code",
   "execution_count": 141,
   "metadata": {},
   "outputs": [
    {
     "data": {
      "text/html": [
       "<div>\n",
       "<style scoped>\n",
       "    .dataframe tbody tr th:only-of-type {\n",
       "        vertical-align: middle;\n",
       "    }\n",
       "\n",
       "    .dataframe tbody tr th {\n",
       "        vertical-align: top;\n",
       "    }\n",
       "\n",
       "    .dataframe thead th {\n",
       "        text-align: right;\n",
       "    }\n",
       "</style>\n",
       "<table border=\"1\" class=\"dataframe\">\n",
       "  <thead>\n",
       "    <tr style=\"text-align: right;\">\n",
       "      <th></th>\n",
       "      <th>Unnamed: 0</th>\n",
       "      <th>Reviewer_ID</th>\n",
       "      <th>Asin</th>\n",
       "      <th>Reviewer_Name</th>\n",
       "      <th>helpful_UpVote</th>\n",
       "      <th>Total_Votes</th>\n",
       "      <th>Review_Text</th>\n",
       "      <th>Rating</th>\n",
       "      <th>Summary</th>\n",
       "      <th>Unix_Review_Time</th>\n",
       "      <th>Review_Time</th>\n",
       "      <th>conc_review</th>\n",
       "      <th>sentiment</th>\n",
       "    </tr>\n",
       "  </thead>\n",
       "  <tbody>\n",
       "    <tr>\n",
       "      <th>0</th>\n",
       "      <td>0</td>\n",
       "      <td>A2CX7LUOHB2NDG</td>\n",
       "      <td>321732944</td>\n",
       "      <td>Bernie</td>\n",
       "      <td>0</td>\n",
       "      <td>0</td>\n",
       "      <td>While many beginner DVDs try to teach you ever...</td>\n",
       "      <td>5</td>\n",
       "      <td>Adobe Photoshop CS5 Crash Course with master P...</td>\n",
       "      <td>1341100800</td>\n",
       "      <td>07 1, 2012</td>\n",
       "      <td>Adobe Photoshop CS5 Crash Course with master P...</td>\n",
       "      <td>positive</td>\n",
       "    </tr>\n",
       "    <tr>\n",
       "      <th>1</th>\n",
       "      <td>1</td>\n",
       "      <td>A1GI0U4ZRJA8WN</td>\n",
       "      <td>439886341</td>\n",
       "      <td>Truthfull</td>\n",
       "      <td>4</td>\n",
       "      <td>4</td>\n",
       "      <td>Do not waste your money on this thing it is te...</td>\n",
       "      <td>1</td>\n",
       "      <td>TERRIBLE DONT WASTE YOUR MONEY</td>\n",
       "      <td>1334707200</td>\n",
       "      <td>04 18, 2012</td>\n",
       "      <td>TERRIBLE DONT WASTE YOUR MONEY Do not waste yo...</td>\n",
       "      <td>negative</td>\n",
       "    </tr>\n",
       "  </tbody>\n",
       "</table>\n",
       "</div>"
      ],
      "text/plain": [
       "   Unnamed: 0     Reviewer_ID       Asin Reviewer_Name  helpful_UpVote  \\\n",
       "0           0  A2CX7LUOHB2NDG  321732944        Bernie               0   \n",
       "1           1  A1GI0U4ZRJA8WN  439886341     Truthfull               4   \n",
       "\n",
       "   Total_Votes                                        Review_Text  Rating  \\\n",
       "0            0  While many beginner DVDs try to teach you ever...       5   \n",
       "1            4  Do not waste your money on this thing it is te...       1   \n",
       "\n",
       "                                             Summary  Unix_Review_Time  \\\n",
       "0  Adobe Photoshop CS5 Crash Course with master P...        1341100800   \n",
       "1                     TERRIBLE DONT WASTE YOUR MONEY        1334707200   \n",
       "\n",
       "   Review_Time                                        conc_review sentiment  \n",
       "0   07 1, 2012  Adobe Photoshop CS5 Crash Course with master P...  positive  \n",
       "1  04 18, 2012  TERRIBLE DONT WASTE YOUR MONEY Do not waste yo...  negative  "
      ]
     },
     "execution_count": 141,
     "metadata": {},
     "output_type": "execute_result"
    }
   ],
   "source": [
    "raw_df.head(2)"
   ]
  },
  {
   "cell_type": "markdown",
   "metadata": {},
   "source": [
    "### lower case"
   ]
  },
  {
   "cell_type": "code",
   "execution_count": 153,
   "metadata": {},
   "outputs": [],
   "source": [
    "\n",
    "raw_df['conc_review']=[str(x) for x in raw_df['conc_review']]\n",
    "raw_df['conc_review']=[x.lower() for x in raw_df['conc_review']]\n"
   ]
  },
  {
   "cell_type": "code",
   "execution_count": 154,
   "metadata": {},
   "outputs": [
    {
     "data": {
      "text/html": [
       "<div>\n",
       "<style scoped>\n",
       "    .dataframe tbody tr th:only-of-type {\n",
       "        vertical-align: middle;\n",
       "    }\n",
       "\n",
       "    .dataframe tbody tr th {\n",
       "        vertical-align: top;\n",
       "    }\n",
       "\n",
       "    .dataframe thead th {\n",
       "        text-align: right;\n",
       "    }\n",
       "</style>\n",
       "<table border=\"1\" class=\"dataframe\">\n",
       "  <thead>\n",
       "    <tr style=\"text-align: right;\">\n",
       "      <th></th>\n",
       "      <th>ID</th>\n",
       "      <th>conc_review</th>\n",
       "    </tr>\n",
       "  </thead>\n",
       "  <tbody>\n",
       "    <tr>\n",
       "      <th>0</th>\n",
       "      <td>1</td>\n",
       "      <td>i bought two sets of these, the red/black and ...</td>\n",
       "    </tr>\n",
       "    <tr>\n",
       "      <th>1</th>\n",
       "      <td>2</td>\n",
       "      <td>i am not very good at packing things, but i ha...</td>\n",
       "    </tr>\n",
       "  </tbody>\n",
       "</table>\n",
       "</div>"
      ],
      "text/plain": [
       "   ID                                        conc_review\n",
       "0   1  i bought two sets of these, the red/black and ...\n",
       "1   2  i am not very good at packing things, but i ha..."
      ]
     },
     "execution_count": 154,
     "metadata": {},
     "output_type": "execute_result"
    }
   ],
   "source": [
    "raw_df.head(2)['conc_review'].iloc[0]\n",
    "raw_df.head(2)"
   ]
  },
  {
   "cell_type": "markdown",
   "metadata": {},
   "source": [
    "### Removing stopwords, and punctuation"
   ]
  },
  {
   "cell_type": "code",
   "execution_count": 155,
   "metadata": {},
   "outputs": [],
   "source": [
    "import string\n",
    "from nltk import corpus\n",
    "from nltk.corpus import stopwords\n",
    "def text_process(mess):\n",
    "    \"\"\"\n",
    "    Takes in a string of text, then performs the following:\n",
    "    1. Remove all punctuation\n",
    "    2. Remove all stopwords\n",
    "    3. Returns a list of the cleaned text\n",
    "    \"\"\"\n",
    "    # Check characters to see if they are in punctuation\n",
    "\n",
    "    nopunc = [char for char in mess if char not in string.punctuation]\n",
    "\n",
    "    # Join the characters again to form the string.\n",
    "    nopunc = ''.join(nopunc)\n",
    "    \n",
    "       \n",
    "    # Now just remove any stopwords\n",
    "    return [word for word in nopunc.split() if word.lower() not in stopwords.words('english')].string.lower()"
   ]
  },
  {
   "cell_type": "code",
   "execution_count": 147,
   "metadata": {},
   "outputs": [
    {
     "name": "stderr",
     "output_type": "stream",
     "text": [
      "[nltk_data] Downloading package stopwords to C:\\Users\\Grover\n",
      "[nltk_data]     Anjali\\AppData\\Roaming\\nltk_data...\n",
      "[nltk_data]   Package stopwords is already up-to-date!\n"
     ]
    },
    {
     "data": {
      "text/plain": [
       "True"
      ]
     },
     "execution_count": 147,
     "metadata": {},
     "output_type": "execute_result"
    }
   ],
   "source": [
    "import nltk\n",
    "nltk.download('stopwords')"
   ]
  },
  {
   "cell_type": "code",
   "execution_count": 156,
   "metadata": {},
   "outputs": [],
   "source": [
    "raw_df['conc_review'] = [char for char in raw_df['conc_review'] if char not in string.punctuation]\n",
    "raw_df['conc_review'] = [word for word in raw_df['conc_review'] if word not in stopwords.words('english')]"
   ]
  },
  {
   "cell_type": "code",
   "execution_count": null,
   "metadata": {},
   "outputs": [],
   "source": []
  },
  {
   "cell_type": "code",
   "execution_count": 157,
   "metadata": {},
   "outputs": [],
   "source": [
    "# !pip install vaderSentiment\n",
    "\n",
    "from vaderSentiment.vaderSentiment import SentimentIntensityAnalyzer \n",
    "  \n",
    "# function to print sentiments \n",
    "# of the sentence. \n",
    "def sentiment_scores(sentence): \n",
    "\n",
    "    sid_obj = SentimentIntensityAnalyzer() \n",
    "\n",
    "    sentiment_dict = sid_obj.polarity_scores(sentence) \n",
    "\n",
    "    # decide sentiment as positive, negative and neutral \n",
    "    if sentiment_dict['compound'] >= 0.03 : \n",
    "        return(\"positive\") \n",
    "  \n",
    "    elif sentiment_dict['compound'] >= -0.03  : \n",
    "        return(\"neutral\") \n",
    "  \n",
    "    else : \n",
    "        return(\"negative\") "
   ]
  },
  {
   "cell_type": "markdown",
   "metadata": {},
   "source": [
    "### Testing Results "
   ]
  },
  {
   "cell_type": "code",
   "execution_count": 121,
   "metadata": {},
   "outputs": [],
   "source": [
    "df_test = raw_df.head(6)"
   ]
  },
  {
   "cell_type": "code",
   "execution_count": 158,
   "metadata": {},
   "outputs": [],
   "source": [
    "raw_df['Result'] = raw_df['conc_review'].apply(sentiment_scores)"
   ]
  },
  {
   "cell_type": "code",
   "execution_count": 161,
   "metadata": {},
   "outputs": [
    {
     "data": {
      "text/html": [
       "<div>\n",
       "<style scoped>\n",
       "    .dataframe tbody tr th:only-of-type {\n",
       "        vertical-align: middle;\n",
       "    }\n",
       "\n",
       "    .dataframe tbody tr th {\n",
       "        vertical-align: top;\n",
       "    }\n",
       "\n",
       "    .dataframe thead th {\n",
       "        text-align: right;\n",
       "    }\n",
       "</style>\n",
       "<table border=\"1\" class=\"dataframe\">\n",
       "  <thead>\n",
       "    <tr style=\"text-align: right;\">\n",
       "      <th></th>\n",
       "      <th>ID</th>\n",
       "      <th>conc_review</th>\n",
       "      <th>Result</th>\n",
       "    </tr>\n",
       "  </thead>\n",
       "  <tbody>\n",
       "    <tr>\n",
       "      <th>0</th>\n",
       "      <td>1</td>\n",
       "      <td>i bought two sets of these, the red/black and ...</td>\n",
       "      <td>positive</td>\n",
       "    </tr>\n",
       "    <tr>\n",
       "      <th>1</th>\n",
       "      <td>2</td>\n",
       "      <td>i am not very good at packing things, but i ha...</td>\n",
       "      <td>positive</td>\n",
       "    </tr>\n",
       "    <tr>\n",
       "      <th>2</th>\n",
       "      <td>3</td>\n",
       "      <td>these are not compression cubes. they are regu...</td>\n",
       "      <td>negative</td>\n",
       "    </tr>\n",
       "    <tr>\n",
       "      <th>3</th>\n",
       "      <td>4</td>\n",
       "      <td>cases where not the size they looked on the we...</td>\n",
       "      <td>neutral</td>\n",
       "    </tr>\n",
       "    <tr>\n",
       "      <th>4</th>\n",
       "      <td>5</td>\n",
       "      <td>\\ni used my packing cubes 3 times and one is s...</td>\n",
       "      <td>negative</td>\n",
       "    </tr>\n",
       "    <tr>\n",
       "      <th>5</th>\n",
       "      <td>6</td>\n",
       "      <td>the silicone/rubber sealing ring absorbs food ...</td>\n",
       "      <td>positive</td>\n",
       "    </tr>\n",
       "    <tr>\n",
       "      <th>6</th>\n",
       "      <td>7</td>\n",
       "      <td>bought the 6 quart and 3 quart. the 3 quart is...</td>\n",
       "      <td>negative</td>\n",
       "    </tr>\n",
       "    <tr>\n",
       "      <th>7</th>\n",
       "      <td>8</td>\n",
       "      <td>instapot advertising seems to primarily focus ...</td>\n",
       "      <td>positive</td>\n",
       "    </tr>\n",
       "    <tr>\n",
       "      <th>8</th>\n",
       "      <td>9</td>\n",
       "      <td>i love this camera, very fast, light weight. j...</td>\n",
       "      <td>positive</td>\n",
       "    </tr>\n",
       "    <tr>\n",
       "      <th>9</th>\n",
       "      <td>10</td>\n",
       "      <td>i love this camera. it has features that make ...</td>\n",
       "      <td>positive</td>\n",
       "    </tr>\n",
       "    <tr>\n",
       "      <th>10</th>\n",
       "      <td>11</td>\n",
       "      <td>\\namazing lightweight camera that is super fun...</td>\n",
       "      <td>positive</td>\n",
       "    </tr>\n",
       "    <tr>\n",
       "      <th>11</th>\n",
       "      <td>12</td>\n",
       "      <td>it's a nice camera, quick focus and sharp imag...</td>\n",
       "      <td>negative</td>\n",
       "    </tr>\n",
       "    <tr>\n",
       "      <th>12</th>\n",
       "      <td>13</td>\n",
       "      <td>absolutely amazing image quality and features!</td>\n",
       "      <td>positive</td>\n",
       "    </tr>\n",
       "    <tr>\n",
       "      <th>13</th>\n",
       "      <td>14</td>\n",
       "      <td>\\namazon does not allow you to select carrier,...</td>\n",
       "      <td>positive</td>\n",
       "    </tr>\n",
       "    <tr>\n",
       "      <th>14</th>\n",
       "      <td>15</td>\n",
       "      <td>\\nover 4 years i have had two issues with this...</td>\n",
       "      <td>negative</td>\n",
       "    </tr>\n",
       "  </tbody>\n",
       "</table>\n",
       "</div>"
      ],
      "text/plain": [
       "    ID                                        conc_review    Result\n",
       "0    1  i bought two sets of these, the red/black and ...  positive\n",
       "1    2  i am not very good at packing things, but i ha...  positive\n",
       "2    3  these are not compression cubes. they are regu...  negative\n",
       "3    4  cases where not the size they looked on the we...   neutral\n",
       "4    5  \\ni used my packing cubes 3 times and one is s...  negative\n",
       "5    6  the silicone/rubber sealing ring absorbs food ...  positive\n",
       "6    7  bought the 6 quart and 3 quart. the 3 quart is...  negative\n",
       "7    8  instapot advertising seems to primarily focus ...  positive\n",
       "8    9  i love this camera, very fast, light weight. j...  positive\n",
       "9   10  i love this camera. it has features that make ...  positive\n",
       "10  11  \\namazing lightweight camera that is super fun...  positive\n",
       "11  12  it's a nice camera, quick focus and sharp imag...  negative\n",
       "12  13     absolutely amazing image quality and features!  positive\n",
       "13  14  \\namazon does not allow you to select carrier,...  positive\n",
       "14  15  \\nover 4 years i have had two issues with this...  negative"
      ]
     },
     "execution_count": 161,
     "metadata": {},
     "output_type": "execute_result"
    }
   ],
   "source": [
    "raw_df"
   ]
  },
  {
   "cell_type": "code",
   "execution_count": 160,
   "metadata": {},
   "outputs": [],
   "source": [
    "raw_df.to_csv('Results.csv')"
   ]
  },
  {
   "cell_type": "code",
   "execution_count": null,
   "metadata": {},
   "outputs": [],
   "source": []
  }
 ],
 "metadata": {
  "kernelspec": {
   "display_name": "Python 3",
   "language": "python",
   "name": "python3"
  },
  "language_info": {
   "codemirror_mode": {
    "name": "ipython",
    "version": 3
   },
   "file_extension": ".py",
   "mimetype": "text/x-python",
   "name": "python",
   "nbconvert_exporter": "python",
   "pygments_lexer": "ipython3",
   "version": "3.7.3"
  }
 },
 "nbformat": 4,
 "nbformat_minor": 2
}
